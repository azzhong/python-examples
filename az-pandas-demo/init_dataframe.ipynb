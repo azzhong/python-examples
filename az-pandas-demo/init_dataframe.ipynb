{
 "cells": [
  {
   "cell_type": "code",
   "execution_count": 1,
   "metadata": {},
   "outputs": [],
   "source": [
    "import numpy as np\n",
    "import pandas as pd"
   ]
  },
  {
   "cell_type": "markdown",
   "metadata": {},
   "source": [
    "# Initialize a Dataframe from numpy ndarray"
   ]
  },
  {
   "cell_type": "markdown",
   "metadata": {},
   "source": [
    "This example shows how we can initialize a dataframe from a $6 \\times 4$ numpy ndarray. It also shows that the index is a date list. "
   ]
  },
  {
   "cell_type": "code",
   "execution_count": 4,
   "metadata": {},
   "outputs": [
    {
     "data": {
      "text/html": [
       "<div>\n",
       "<style scoped>\n",
       "    .dataframe tbody tr th:only-of-type {\n",
       "        vertical-align: middle;\n",
       "    }\n",
       "\n",
       "    .dataframe tbody tr th {\n",
       "        vertical-align: top;\n",
       "    }\n",
       "\n",
       "    .dataframe thead th {\n",
       "        text-align: right;\n",
       "    }\n",
       "</style>\n",
       "<table border=\"1\" class=\"dataframe\">\n",
       "  <thead>\n",
       "    <tr style=\"text-align: right;\">\n",
       "      <th></th>\n",
       "      <th>A</th>\n",
       "      <th>B</th>\n",
       "      <th>C</th>\n",
       "      <th>D</th>\n",
       "    </tr>\n",
       "  </thead>\n",
       "  <tbody>\n",
       "    <tr>\n",
       "      <th>2022-11-01</th>\n",
       "      <td>0.400408</td>\n",
       "      <td>-1.471785</td>\n",
       "      <td>0.950691</td>\n",
       "      <td>-0.704910</td>\n",
       "    </tr>\n",
       "    <tr>\n",
       "      <th>2022-11-02</th>\n",
       "      <td>-1.005516</td>\n",
       "      <td>-1.244634</td>\n",
       "      <td>0.058168</td>\n",
       "      <td>0.099546</td>\n",
       "    </tr>\n",
       "    <tr>\n",
       "      <th>2022-11-03</th>\n",
       "      <td>1.304751</td>\n",
       "      <td>-0.945577</td>\n",
       "      <td>-0.057032</td>\n",
       "      <td>-1.525734</td>\n",
       "    </tr>\n",
       "    <tr>\n",
       "      <th>2022-11-04</th>\n",
       "      <td>-1.108223</td>\n",
       "      <td>0.843783</td>\n",
       "      <td>-1.470870</td>\n",
       "      <td>1.089852</td>\n",
       "    </tr>\n",
       "    <tr>\n",
       "      <th>2022-11-05</th>\n",
       "      <td>0.305879</td>\n",
       "      <td>-0.017959</td>\n",
       "      <td>0.960963</td>\n",
       "      <td>-1.120833</td>\n",
       "    </tr>\n",
       "    <tr>\n",
       "      <th>2022-11-06</th>\n",
       "      <td>-2.224501</td>\n",
       "      <td>1.556565</td>\n",
       "      <td>-0.754680</td>\n",
       "      <td>0.199439</td>\n",
       "    </tr>\n",
       "  </tbody>\n",
       "</table>\n",
       "</div>"
      ],
      "text/plain": [
       "                   A         B         C         D\n",
       "2022-11-01  0.400408 -1.471785  0.950691 -0.704910\n",
       "2022-11-02 -1.005516 -1.244634  0.058168  0.099546\n",
       "2022-11-03  1.304751 -0.945577 -0.057032 -1.525734\n",
       "2022-11-04 -1.108223  0.843783 -1.470870  1.089852\n",
       "2022-11-05  0.305879 -0.017959  0.960963 -1.120833\n",
       "2022-11-06 -2.224501  1.556565 -0.754680  0.199439"
      ]
     },
     "execution_count": 4,
     "metadata": {},
     "output_type": "execute_result"
    }
   ],
   "source": [
    "# get 6 days\n",
    "dates = pd.date_range(\"20221101\", periods=6)\n",
    "\n",
    "# dataframe of 6 rows, 4 columns, index using dates,\n",
    "# column name A B C D\n",
    "df = pd.DataFrame(\n",
    "    np.random.randn(6, 4), \n",
    "    index=dates, \n",
    "    columns=list(\"ABCD\")\n",
    ")\n",
    "df"
   ]
  },
  {
   "cell_type": "code",
   "execution_count": null,
   "metadata": {},
   "outputs": [],
   "source": []
  }
 ],
 "metadata": {
  "kernelspec": {
   "display_name": "Python 3",
   "language": "python",
   "name": "python3"
  },
  "language_info": {
   "codemirror_mode": {
    "name": "ipython",
    "version": 3
   },
   "file_extension": ".py",
   "mimetype": "text/x-python",
   "name": "python",
   "nbconvert_exporter": "python",
   "pygments_lexer": "ipython3",
   "version": "3.7.3"
  }
 },
 "nbformat": 4,
 "nbformat_minor": 4
}
