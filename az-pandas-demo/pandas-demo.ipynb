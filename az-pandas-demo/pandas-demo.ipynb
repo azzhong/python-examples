{
 "cells": [
  {
   "cell_type": "code",
   "execution_count": 4,
   "metadata": {},
   "outputs": [],
   "source": [
    "import numpy as np\n",
    "import pandas as pd"
   ]
  },
  {
   "cell_type": "code",
   "execution_count": 5,
   "metadata": {},
   "outputs": [],
   "source": [
    "# get 6 days\n",
    "dates = pd.date_range(\"20221101\", periods=6)\n",
    "\n",
    "# dataframe of 6 rows, 4 columns, index using dates,\n",
    "# column name A B C D\n",
    "df = pd.DataFrame(\n",
    "    np.random.randn(6, 4), \n",
    "    index=dates, \n",
    "    columns=list(\"ABCD\")\n",
    ")"
   ]
  },
  {
   "cell_type": "code",
   "execution_count": 4,
   "metadata": {},
   "outputs": [
    {
     "data": {
      "text/html": [
       "<div>\n",
       "<style scoped>\n",
       "    .dataframe tbody tr th:only-of-type {\n",
       "        vertical-align: middle;\n",
       "    }\n",
       "\n",
       "    .dataframe tbody tr th {\n",
       "        vertical-align: top;\n",
       "    }\n",
       "\n",
       "    .dataframe thead th {\n",
       "        text-align: right;\n",
       "    }\n",
       "</style>\n",
       "<table border=\"1\" class=\"dataframe\">\n",
       "  <thead>\n",
       "    <tr style=\"text-align: right;\">\n",
       "      <th></th>\n",
       "      <th>A</th>\n",
       "      <th>B</th>\n",
       "      <th>C</th>\n",
       "      <th>D</th>\n",
       "    </tr>\n",
       "  </thead>\n",
       "  <tbody>\n",
       "    <tr>\n",
       "      <th>2022-11-01</th>\n",
       "      <td>1.474002</td>\n",
       "      <td>0.686697</td>\n",
       "      <td>-0.287275</td>\n",
       "      <td>-0.025149</td>\n",
       "    </tr>\n",
       "    <tr>\n",
       "      <th>2022-11-02</th>\n",
       "      <td>-0.866297</td>\n",
       "      <td>0.275888</td>\n",
       "      <td>-0.221804</td>\n",
       "      <td>-0.102230</td>\n",
       "    </tr>\n",
       "    <tr>\n",
       "      <th>2022-11-03</th>\n",
       "      <td>-0.251718</td>\n",
       "      <td>-1.679887</td>\n",
       "      <td>-0.927424</td>\n",
       "      <td>1.172608</td>\n",
       "    </tr>\n",
       "    <tr>\n",
       "      <th>2022-11-04</th>\n",
       "      <td>1.001940</td>\n",
       "      <td>-0.243176</td>\n",
       "      <td>-0.662798</td>\n",
       "      <td>0.281772</td>\n",
       "    </tr>\n",
       "    <tr>\n",
       "      <th>2022-11-05</th>\n",
       "      <td>1.949305</td>\n",
       "      <td>-0.166774</td>\n",
       "      <td>-1.695013</td>\n",
       "      <td>-0.118569</td>\n",
       "    </tr>\n",
       "    <tr>\n",
       "      <th>2022-11-06</th>\n",
       "      <td>-0.073479</td>\n",
       "      <td>-0.423080</td>\n",
       "      <td>0.350862</td>\n",
       "      <td>-1.514716</td>\n",
       "    </tr>\n",
       "  </tbody>\n",
       "</table>\n",
       "</div>"
      ],
      "text/plain": [
       "                   A         B         C         D\n",
       "2022-11-01  1.474002  0.686697 -0.287275 -0.025149\n",
       "2022-11-02 -0.866297  0.275888 -0.221804 -0.102230\n",
       "2022-11-03 -0.251718 -1.679887 -0.927424  1.172608\n",
       "2022-11-04  1.001940 -0.243176 -0.662798  0.281772\n",
       "2022-11-05  1.949305 -0.166774 -1.695013 -0.118569\n",
       "2022-11-06 -0.073479 -0.423080  0.350862 -1.514716"
      ]
     },
     "execution_count": 4,
     "metadata": {},
     "output_type": "execute_result"
    }
   ],
   "source": [
    "df"
   ]
  },
  {
   "cell_type": "code",
   "execution_count": 5,
   "metadata": {},
   "outputs": [],
   "source": [
    "def genNewCol(row):\n",
    "    print(type(row))\n",
    "    print(row)\n",
    "    print(row['A'])\n",
    "    score = row['A'] + row['B']\n",
    "    return score"
   ]
  },
  {
   "cell_type": "markdown",
   "metadata": {},
   "source": [
    "# Get a row from the df"
   ]
  },
  {
   "cell_type": "code",
   "execution_count": 6,
   "metadata": {},
   "outputs": [
    {
     "data": {
      "text/plain": [
       "A    1.474002\n",
       "B    0.686697\n",
       "C   -0.287275\n",
       "D   -0.025149\n",
       "Name: 2022-11-01 00:00:00, dtype: float64"
      ]
     },
     "execution_count": 6,
     "metadata": {},
     "output_type": "execute_result"
    }
   ],
   "source": [
    "df.iloc[0]"
   ]
  },
  {
   "cell_type": "markdown",
   "metadata": {},
   "source": [
    "# Get a cell from the df"
   ]
  },
  {
   "cell_type": "code",
   "execution_count": 7,
   "metadata": {},
   "outputs": [
    {
     "data": {
      "text/plain": [
       "1.474002472979952"
      ]
     },
     "execution_count": 7,
     "metadata": {},
     "output_type": "execute_result"
    }
   ],
   "source": [
    "df.iloc[0][0]"
   ]
  },
  {
   "cell_type": "code",
   "execution_count": 8,
   "metadata": {},
   "outputs": [
    {
     "data": {
      "text/plain": [
       "0.6866973829508601"
      ]
     },
     "execution_count": 8,
     "metadata": {},
     "output_type": "execute_result"
    }
   ],
   "source": [
    "df.iloc[0]['B']"
   ]
  },
  {
   "cell_type": "markdown",
   "metadata": {},
   "source": [
    "# apply function"
   ]
  },
  {
   "cell_type": "code",
   "execution_count": 9,
   "metadata": {},
   "outputs": [],
   "source": [
    "def sumCols(a, b):\n",
    "    return a+b"
   ]
  },
  {
   "cell_type": "markdown",
   "metadata": {},
   "source": [
    "## apply function using lambda"
   ]
  },
  {
   "cell_type": "code",
   "execution_count": 21,
   "metadata": {},
   "outputs": [
    {
     "data": {
      "text/plain": [
       "2022-11-01    <class 'pandas.core.series.Series'>\n",
       "2022-11-02    <class 'pandas.core.series.Series'>\n",
       "2022-11-03    <class 'pandas.core.series.Series'>\n",
       "2022-11-04    <class 'pandas.core.series.Series'>\n",
       "2022-11-05    <class 'pandas.core.series.Series'>\n",
       "2022-11-06    <class 'pandas.core.series.Series'>\n",
       "Freq: D, dtype: object"
      ]
     },
     "execution_count": 21,
     "metadata": {},
     "output_type": "execute_result"
    }
   ],
   "source": [
    "df.apply(lambda row: type(row), axis=1)"
   ]
  },
  {
   "cell_type": "code",
   "execution_count": 24,
   "metadata": {},
   "outputs": [
    {
     "data": {
      "text/plain": [
       "2022-11-01    2.160700\n",
       "2022-11-02   -0.590408\n",
       "2022-11-03   -1.931605\n",
       "2022-11-04    0.758765\n",
       "2022-11-05    1.782531\n",
       "2022-11-06   -0.496559\n",
       "Freq: D, dtype: float64"
      ]
     },
     "execution_count": 24,
     "metadata": {},
     "output_type": "execute_result"
    }
   ],
   "source": [
    "df.apply(lambda row: row['A'] + row['B'], axis=1)"
   ]
  },
  {
   "cell_type": "code",
   "execution_count": 28,
   "metadata": {},
   "outputs": [
    {
     "data": {
      "text/html": [
       "<div>\n",
       "<style scoped>\n",
       "    .dataframe tbody tr th:only-of-type {\n",
       "        vertical-align: middle;\n",
       "    }\n",
       "\n",
       "    .dataframe tbody tr th {\n",
       "        vertical-align: top;\n",
       "    }\n",
       "\n",
       "    .dataframe thead th {\n",
       "        text-align: right;\n",
       "    }\n",
       "</style>\n",
       "<table border=\"1\" class=\"dataframe\">\n",
       "  <thead>\n",
       "    <tr style=\"text-align: right;\">\n",
       "      <th></th>\n",
       "      <th>A</th>\n",
       "      <th>B</th>\n",
       "      <th>C</th>\n",
       "      <th>D</th>\n",
       "      <th>ABSum</th>\n",
       "    </tr>\n",
       "  </thead>\n",
       "  <tbody>\n",
       "    <tr>\n",
       "      <th>2022-11-01</th>\n",
       "      <td>1.474002</td>\n",
       "      <td>0.686697</td>\n",
       "      <td>-0.287275</td>\n",
       "      <td>-0.025149</td>\n",
       "      <td>2.160700</td>\n",
       "    </tr>\n",
       "    <tr>\n",
       "      <th>2022-11-02</th>\n",
       "      <td>-0.866297</td>\n",
       "      <td>0.275888</td>\n",
       "      <td>-0.221804</td>\n",
       "      <td>-0.102230</td>\n",
       "      <td>-0.590408</td>\n",
       "    </tr>\n",
       "    <tr>\n",
       "      <th>2022-11-03</th>\n",
       "      <td>-0.251718</td>\n",
       "      <td>-1.679887</td>\n",
       "      <td>-0.927424</td>\n",
       "      <td>1.172608</td>\n",
       "      <td>-1.931605</td>\n",
       "    </tr>\n",
       "    <tr>\n",
       "      <th>2022-11-04</th>\n",
       "      <td>1.001940</td>\n",
       "      <td>-0.243176</td>\n",
       "      <td>-0.662798</td>\n",
       "      <td>0.281772</td>\n",
       "      <td>0.758765</td>\n",
       "    </tr>\n",
       "    <tr>\n",
       "      <th>2022-11-05</th>\n",
       "      <td>1.949305</td>\n",
       "      <td>-0.166774</td>\n",
       "      <td>-1.695013</td>\n",
       "      <td>-0.118569</td>\n",
       "      <td>1.782531</td>\n",
       "    </tr>\n",
       "    <tr>\n",
       "      <th>2022-11-06</th>\n",
       "      <td>-0.073479</td>\n",
       "      <td>-0.423080</td>\n",
       "      <td>0.350862</td>\n",
       "      <td>-1.514716</td>\n",
       "      <td>-0.496559</td>\n",
       "    </tr>\n",
       "  </tbody>\n",
       "</table>\n",
       "</div>"
      ],
      "text/plain": [
       "                   A         B         C         D     ABSum\n",
       "2022-11-01  1.474002  0.686697 -0.287275 -0.025149  2.160700\n",
       "2022-11-02 -0.866297  0.275888 -0.221804 -0.102230 -0.590408\n",
       "2022-11-03 -0.251718 -1.679887 -0.927424  1.172608 -1.931605\n",
       "2022-11-04  1.001940 -0.243176 -0.662798  0.281772  0.758765\n",
       "2022-11-05  1.949305 -0.166774 -1.695013 -0.118569  1.782531\n",
       "2022-11-06 -0.073479 -0.423080  0.350862 -1.514716 -0.496559"
      ]
     },
     "execution_count": 28,
     "metadata": {},
     "output_type": "execute_result"
    }
   ],
   "source": [
    "df['ABSum'] = df.apply(lambda row: sumCols(row['A'],row['B']), axis=1)\n",
    "df"
   ]
  },
  {
   "cell_type": "code",
   "execution_count": 29,
   "metadata": {},
   "outputs": [
    {
     "name": "stdout",
     "output_type": "stream",
     "text": [
      "<class 'pandas.core.series.Series'>\n",
      "A        1.474002\n",
      "B        0.686697\n",
      "C       -0.287275\n",
      "D       -0.025149\n",
      "ABSum    2.160700\n",
      "Name: 2022-11-01 00:00:00, dtype: float64\n",
      "1.474002472979952\n",
      "<class 'pandas.core.series.Series'>\n",
      "A       -0.866297\n",
      "B        0.275888\n",
      "C       -0.221804\n",
      "D       -0.102230\n",
      "ABSum   -0.590408\n",
      "Name: 2022-11-02 00:00:00, dtype: float64\n",
      "-0.8662968220432019\n",
      "<class 'pandas.core.series.Series'>\n",
      "A       -0.251718\n",
      "B       -1.679887\n",
      "C       -0.927424\n",
      "D        1.172608\n",
      "ABSum   -1.931605\n",
      "Name: 2022-11-03 00:00:00, dtype: float64\n",
      "-0.2517178818948574\n",
      "<class 'pandas.core.series.Series'>\n",
      "A        1.001940\n",
      "B       -0.243176\n",
      "C       -0.662798\n",
      "D        0.281772\n",
      "ABSum    0.758765\n",
      "Name: 2022-11-04 00:00:00, dtype: float64\n",
      "1.0019402999473812\n",
      "<class 'pandas.core.series.Series'>\n",
      "A        1.949305\n",
      "B       -0.166774\n",
      "C       -1.695013\n",
      "D       -0.118569\n",
      "ABSum    1.782531\n",
      "Name: 2022-11-05 00:00:00, dtype: float64\n",
      "1.9493049747448417\n",
      "<class 'pandas.core.series.Series'>\n",
      "A       -0.073479\n",
      "B       -0.423080\n",
      "C        0.350862\n",
      "D       -1.514716\n",
      "ABSum   -0.496559\n",
      "Name: 2022-11-06 00:00:00, dtype: float64\n",
      "-0.07347890052498406\n"
     ]
    },
    {
     "data": {
      "text/html": [
       "<div>\n",
       "<style scoped>\n",
       "    .dataframe tbody tr th:only-of-type {\n",
       "        vertical-align: middle;\n",
       "    }\n",
       "\n",
       "    .dataframe tbody tr th {\n",
       "        vertical-align: top;\n",
       "    }\n",
       "\n",
       "    .dataframe thead th {\n",
       "        text-align: right;\n",
       "    }\n",
       "</style>\n",
       "<table border=\"1\" class=\"dataframe\">\n",
       "  <thead>\n",
       "    <tr style=\"text-align: right;\">\n",
       "      <th></th>\n",
       "      <th>A</th>\n",
       "      <th>B</th>\n",
       "      <th>C</th>\n",
       "      <th>D</th>\n",
       "      <th>ABSum</th>\n",
       "      <th>ABSum2</th>\n",
       "    </tr>\n",
       "  </thead>\n",
       "  <tbody>\n",
       "    <tr>\n",
       "      <th>2022-11-01</th>\n",
       "      <td>1.474002</td>\n",
       "      <td>0.686697</td>\n",
       "      <td>-0.287275</td>\n",
       "      <td>-0.025149</td>\n",
       "      <td>2.160700</td>\n",
       "      <td>2.160700</td>\n",
       "    </tr>\n",
       "    <tr>\n",
       "      <th>2022-11-02</th>\n",
       "      <td>-0.866297</td>\n",
       "      <td>0.275888</td>\n",
       "      <td>-0.221804</td>\n",
       "      <td>-0.102230</td>\n",
       "      <td>-0.590408</td>\n",
       "      <td>-0.590408</td>\n",
       "    </tr>\n",
       "    <tr>\n",
       "      <th>2022-11-03</th>\n",
       "      <td>-0.251718</td>\n",
       "      <td>-1.679887</td>\n",
       "      <td>-0.927424</td>\n",
       "      <td>1.172608</td>\n",
       "      <td>-1.931605</td>\n",
       "      <td>-1.931605</td>\n",
       "    </tr>\n",
       "    <tr>\n",
       "      <th>2022-11-04</th>\n",
       "      <td>1.001940</td>\n",
       "      <td>-0.243176</td>\n",
       "      <td>-0.662798</td>\n",
       "      <td>0.281772</td>\n",
       "      <td>0.758765</td>\n",
       "      <td>0.758765</td>\n",
       "    </tr>\n",
       "    <tr>\n",
       "      <th>2022-11-05</th>\n",
       "      <td>1.949305</td>\n",
       "      <td>-0.166774</td>\n",
       "      <td>-1.695013</td>\n",
       "      <td>-0.118569</td>\n",
       "      <td>1.782531</td>\n",
       "      <td>1.782531</td>\n",
       "    </tr>\n",
       "    <tr>\n",
       "      <th>2022-11-06</th>\n",
       "      <td>-0.073479</td>\n",
       "      <td>-0.423080</td>\n",
       "      <td>0.350862</td>\n",
       "      <td>-1.514716</td>\n",
       "      <td>-0.496559</td>\n",
       "      <td>-0.496559</td>\n",
       "    </tr>\n",
       "  </tbody>\n",
       "</table>\n",
       "</div>"
      ],
      "text/plain": [
       "                   A         B         C         D     ABSum    ABSum2\n",
       "2022-11-01  1.474002  0.686697 -0.287275 -0.025149  2.160700  2.160700\n",
       "2022-11-02 -0.866297  0.275888 -0.221804 -0.102230 -0.590408 -0.590408\n",
       "2022-11-03 -0.251718 -1.679887 -0.927424  1.172608 -1.931605 -1.931605\n",
       "2022-11-04  1.001940 -0.243176 -0.662798  0.281772  0.758765  0.758765\n",
       "2022-11-05  1.949305 -0.166774 -1.695013 -0.118569  1.782531  1.782531\n",
       "2022-11-06 -0.073479 -0.423080  0.350862 -1.514716 -0.496559 -0.496559"
      ]
     },
     "execution_count": 29,
     "metadata": {},
     "output_type": "execute_result"
    }
   ],
   "source": [
    "df['ABSum2'] = df.apply(lambda row: genNewCol(row), axis=1)\n",
    "df"
   ]
  },
  {
   "cell_type": "markdown",
   "metadata": {},
   "source": [
    "## apply function using function name"
   ]
  },
  {
   "cell_type": "markdown",
   "metadata": {},
   "source": [
    "input to the function will be a row, if apply with \n",
    "```\n",
    "axis=1\n",
    "```"
   ]
  },
  {
   "cell_type": "code",
   "execution_count": 7,
   "metadata": {},
   "outputs": [],
   "source": [
    "def sumAllCols(row):\n",
    "    return row['A'] + row['B'] + row['C'] + row['D']"
   ]
  },
  {
   "cell_type": "code",
   "execution_count": 13,
   "metadata": {},
   "outputs": [
    {
     "data": {
      "text/html": [
       "<div>\n",
       "<style scoped>\n",
       "    .dataframe tbody tr th:only-of-type {\n",
       "        vertical-align: middle;\n",
       "    }\n",
       "\n",
       "    .dataframe tbody tr th {\n",
       "        vertical-align: top;\n",
       "    }\n",
       "\n",
       "    .dataframe thead th {\n",
       "        text-align: right;\n",
       "    }\n",
       "</style>\n",
       "<table border=\"1\" class=\"dataframe\">\n",
       "  <thead>\n",
       "    <tr style=\"text-align: right;\">\n",
       "      <th></th>\n",
       "      <th>A</th>\n",
       "      <th>B</th>\n",
       "      <th>C</th>\n",
       "      <th>D</th>\n",
       "    </tr>\n",
       "  </thead>\n",
       "  <tbody>\n",
       "    <tr>\n",
       "      <th>2022-11-01</th>\n",
       "      <td>-0.184481</td>\n",
       "      <td>2.566990</td>\n",
       "      <td>-1.676685</td>\n",
       "      <td>1.266659</td>\n",
       "    </tr>\n",
       "    <tr>\n",
       "      <th>2022-11-02</th>\n",
       "      <td>-0.458861</td>\n",
       "      <td>1.761059</td>\n",
       "      <td>-0.230070</td>\n",
       "      <td>1.069204</td>\n",
       "    </tr>\n",
       "    <tr>\n",
       "      <th>2022-11-03</th>\n",
       "      <td>-0.918886</td>\n",
       "      <td>1.533986</td>\n",
       "      <td>0.794173</td>\n",
       "      <td>0.875604</td>\n",
       "    </tr>\n",
       "    <tr>\n",
       "      <th>2022-11-04</th>\n",
       "      <td>0.397285</td>\n",
       "      <td>-0.006980</td>\n",
       "      <td>-0.174836</td>\n",
       "      <td>-0.754928</td>\n",
       "    </tr>\n",
       "    <tr>\n",
       "      <th>2022-11-05</th>\n",
       "      <td>-0.443441</td>\n",
       "      <td>0.651536</td>\n",
       "      <td>0.082402</td>\n",
       "      <td>0.237878</td>\n",
       "    </tr>\n",
       "    <tr>\n",
       "      <th>2022-11-06</th>\n",
       "      <td>-0.053982</td>\n",
       "      <td>-0.245426</td>\n",
       "      <td>0.488088</td>\n",
       "      <td>2.020300</td>\n",
       "    </tr>\n",
       "  </tbody>\n",
       "</table>\n",
       "</div>"
      ],
      "text/plain": [
       "                   A         B         C         D\n",
       "2022-11-01 -0.184481  2.566990 -1.676685  1.266659\n",
       "2022-11-02 -0.458861  1.761059 -0.230070  1.069204\n",
       "2022-11-03 -0.918886  1.533986  0.794173  0.875604\n",
       "2022-11-04  0.397285 -0.006980 -0.174836 -0.754928\n",
       "2022-11-05 -0.443441  0.651536  0.082402  0.237878\n",
       "2022-11-06 -0.053982 -0.245426  0.488088  2.020300"
      ]
     },
     "execution_count": 13,
     "metadata": {},
     "output_type": "execute_result"
    }
   ],
   "source": [
    "df"
   ]
  },
  {
   "cell_type": "code",
   "execution_count": 9,
   "metadata": {},
   "outputs": [
    {
     "data": {
      "text/plain": [
       "2022-11-01    1.972484\n",
       "2022-11-02    2.141332\n",
       "2022-11-03    2.284876\n",
       "2022-11-04   -0.539459\n",
       "2022-11-05    0.528375\n",
       "2022-11-06    2.208980\n",
       "Freq: D, dtype: float64"
      ]
     },
     "execution_count": 9,
     "metadata": {},
     "output_type": "execute_result"
    }
   ],
   "source": [
    "df.apply(sumAllCols, axis=1)"
   ]
  },
  {
   "cell_type": "code",
   "execution_count": 14,
   "metadata": {},
   "outputs": [
    {
     "data": {
      "text/plain": [
       "1.9724830000000002"
      ]
     },
     "execution_count": 14,
     "metadata": {},
     "output_type": "execute_result"
    }
   ],
   "source": [
    "sum([-0.184481,2.566990,-1.676685,1.266659])"
   ]
  },
  {
   "cell_type": "code",
   "execution_count": null,
   "metadata": {},
   "outputs": [],
   "source": []
  }
 ],
 "metadata": {
  "kernelspec": {
   "display_name": "Python 3",
   "language": "python",
   "name": "python3"
  },
  "language_info": {
   "codemirror_mode": {
    "name": "ipython",
    "version": 3
   },
   "file_extension": ".py",
   "mimetype": "text/x-python",
   "name": "python",
   "nbconvert_exporter": "python",
   "pygments_lexer": "ipython3",
   "version": "3.7.3"
  }
 },
 "nbformat": 4,
 "nbformat_minor": 4
}
