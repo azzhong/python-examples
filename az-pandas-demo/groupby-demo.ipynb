{
 "cells": [
  {
   "cell_type": "markdown",
   "metadata": {},
   "source": [
    "# Groupby Demo"
   ]
  },
  {
   "cell_type": "code",
   "execution_count": 23,
   "metadata": {},
   "outputs": [],
   "source": [
    "import numpy as np\n",
    "import pandas as pd\n",
    "import random\n"
   ]
  },
  {
   "cell_type": "markdown",
   "metadata": {},
   "source": [
    "## Init a DataFrame"
   ]
  },
  {
   "cell_type": "code",
   "execution_count": 10,
   "metadata": {},
   "outputs": [
    {
     "data": {
      "text/html": [
       "<div>\n",
       "<style scoped>\n",
       "    .dataframe tbody tr th:only-of-type {\n",
       "        vertical-align: middle;\n",
       "    }\n",
       "\n",
       "    .dataframe tbody tr th {\n",
       "        vertical-align: top;\n",
       "    }\n",
       "\n",
       "    .dataframe thead th {\n",
       "        text-align: right;\n",
       "    }\n",
       "</style>\n",
       "<table border=\"1\" class=\"dataframe\">\n",
       "  <thead>\n",
       "    <tr style=\"text-align: right;\">\n",
       "      <th></th>\n",
       "      <th>A</th>\n",
       "      <th>B</th>\n",
       "      <th>C</th>\n",
       "      <th>D</th>\n",
       "      <th>group</th>\n",
       "    </tr>\n",
       "  </thead>\n",
       "  <tbody>\n",
       "    <tr>\n",
       "      <th>2022-11-01</th>\n",
       "      <td>-0.410600</td>\n",
       "      <td>-0.065767</td>\n",
       "      <td>-0.461423</td>\n",
       "      <td>0.217363</td>\n",
       "      <td>C</td>\n",
       "    </tr>\n",
       "    <tr>\n",
       "      <th>2022-11-02</th>\n",
       "      <td>-0.510364</td>\n",
       "      <td>-2.147316</td>\n",
       "      <td>0.713797</td>\n",
       "      <td>-1.038984</td>\n",
       "      <td>C</td>\n",
       "    </tr>\n",
       "    <tr>\n",
       "      <th>2022-11-03</th>\n",
       "      <td>-0.496057</td>\n",
       "      <td>0.047652</td>\n",
       "      <td>-0.347322</td>\n",
       "      <td>1.554182</td>\n",
       "      <td>B</td>\n",
       "    </tr>\n",
       "    <tr>\n",
       "      <th>2022-11-04</th>\n",
       "      <td>-0.670524</td>\n",
       "      <td>0.934769</td>\n",
       "      <td>0.065391</td>\n",
       "      <td>0.698081</td>\n",
       "      <td>B</td>\n",
       "    </tr>\n",
       "    <tr>\n",
       "      <th>2022-11-05</th>\n",
       "      <td>-0.354363</td>\n",
       "      <td>0.298966</td>\n",
       "      <td>-0.499015</td>\n",
       "      <td>0.121221</td>\n",
       "      <td>C</td>\n",
       "    </tr>\n",
       "    <tr>\n",
       "      <th>2022-11-06</th>\n",
       "      <td>-0.778994</td>\n",
       "      <td>2.103829</td>\n",
       "      <td>-1.649054</td>\n",
       "      <td>1.437184</td>\n",
       "      <td>B</td>\n",
       "    </tr>\n",
       "    <tr>\n",
       "      <th>2022-11-07</th>\n",
       "      <td>-0.444217</td>\n",
       "      <td>-0.879306</td>\n",
       "      <td>1.053771</td>\n",
       "      <td>1.320646</td>\n",
       "      <td>D</td>\n",
       "    </tr>\n",
       "    <tr>\n",
       "      <th>2022-11-08</th>\n",
       "      <td>0.718616</td>\n",
       "      <td>-1.373646</td>\n",
       "      <td>0.129225</td>\n",
       "      <td>-0.324881</td>\n",
       "      <td>A</td>\n",
       "    </tr>\n",
       "    <tr>\n",
       "      <th>2022-11-09</th>\n",
       "      <td>0.017866</td>\n",
       "      <td>-0.399896</td>\n",
       "      <td>0.450833</td>\n",
       "      <td>-1.330551</td>\n",
       "      <td>B</td>\n",
       "    </tr>\n",
       "    <tr>\n",
       "      <th>2022-11-10</th>\n",
       "      <td>-1.606591</td>\n",
       "      <td>-0.228823</td>\n",
       "      <td>1.586585</td>\n",
       "      <td>-0.414570</td>\n",
       "      <td>D</td>\n",
       "    </tr>\n",
       "  </tbody>\n",
       "</table>\n",
       "</div>"
      ],
      "text/plain": [
       "                   A         B         C         D group\n",
       "2022-11-01 -0.410600 -0.065767 -0.461423  0.217363     C\n",
       "2022-11-02 -0.510364 -2.147316  0.713797 -1.038984     C\n",
       "2022-11-03 -0.496057  0.047652 -0.347322  1.554182     B\n",
       "2022-11-04 -0.670524  0.934769  0.065391  0.698081     B\n",
       "2022-11-05 -0.354363  0.298966 -0.499015  0.121221     C\n",
       "2022-11-06 -0.778994  2.103829 -1.649054  1.437184     B\n",
       "2022-11-07 -0.444217 -0.879306  1.053771  1.320646     D\n",
       "2022-11-08  0.718616 -1.373646  0.129225 -0.324881     A\n",
       "2022-11-09  0.017866 -0.399896  0.450833 -1.330551     B\n",
       "2022-11-10 -1.606591 -0.228823  1.586585 -0.414570     D"
      ]
     },
     "execution_count": 10,
     "metadata": {},
     "output_type": "execute_result"
    }
   ],
   "source": [
    "# get 6 days\n",
    "rows = 10\n",
    "dates = pd.date_range(\"20221101\", periods=rows)\n",
    "\n",
    "groups = []\n",
    "\n",
    "# loop 10 times\n",
    "for i in range(rows):\n",
    "    # add a random choice of 'A', 'B', 'C', or 'D' to the list\n",
    "    groups.append(random.choice(['A', 'B', 'C', 'D']))\n",
    "\n",
    "# dataframe of 6 rows, 4 columns, index using dates,\n",
    "# column name A B C D\n",
    "df = pd.DataFrame(\n",
    "    np.random.randn(rows, 4), \n",
    "    index=dates, \n",
    "    columns=list(\"ABCD\")\n",
    ")\n",
    "df['group'] = groups\n",
    "df"
   ]
  },
  {
   "cell_type": "markdown",
   "metadata": {},
   "source": [
    "# grouby "
   ]
  },
  {
   "cell_type": "code",
   "execution_count": 11,
   "metadata": {},
   "outputs": [
    {
     "data": {
      "text/plain": [
       "<pandas.core.groupby.generic.DataFrameGroupBy object at 0x10762f9b0>"
      ]
     },
     "execution_count": 11,
     "metadata": {},
     "output_type": "execute_result"
    }
   ],
   "source": [
    "df.groupby('group')"
   ]
  },
  {
   "cell_type": "code",
   "execution_count": null,
   "metadata": {},
   "outputs": [],
   "source": []
  },
  {
   "cell_type": "markdown",
   "metadata": {},
   "source": [
    "In the below, \n",
    "* \"name\" is the group name, and \"group\" is the collection object, the subset of the columns with the same group\n",
    "* group's datatype is dataframe"
   ]
  },
  {
   "cell_type": "code",
   "execution_count": 28,
   "metadata": {},
   "outputs": [
    {
     "data": {
      "text/html": [
       "<div>\n",
       "<style scoped>\n",
       "    .dataframe tbody tr th:only-of-type {\n",
       "        vertical-align: middle;\n",
       "    }\n",
       "\n",
       "    .dataframe tbody tr th {\n",
       "        vertical-align: top;\n",
       "    }\n",
       "\n",
       "    .dataframe thead th {\n",
       "        text-align: right;\n",
       "    }\n",
       "</style>\n",
       "<table border=\"1\" class=\"dataframe\">\n",
       "  <thead>\n",
       "    <tr style=\"text-align: right;\">\n",
       "      <th></th>\n",
       "      <th>A</th>\n",
       "      <th>B</th>\n",
       "      <th>C</th>\n",
       "      <th>D</th>\n",
       "      <th>group</th>\n",
       "    </tr>\n",
       "  </thead>\n",
       "  <tbody>\n",
       "    <tr>\n",
       "      <th>2022-11-08</th>\n",
       "      <td>0.718616</td>\n",
       "      <td>-1.373646</td>\n",
       "      <td>0.129225</td>\n",
       "      <td>-0.324881</td>\n",
       "      <td>A</td>\n",
       "    </tr>\n",
       "  </tbody>\n",
       "</table>\n",
       "</div>"
      ],
      "text/plain": [
       "                   A         B         C         D group\n",
       "2022-11-08  0.718616 -1.373646  0.129225 -0.324881     A"
      ]
     },
     "metadata": {},
     "output_type": "display_data"
    },
    {
     "name": "stdout",
     "output_type": "stream",
     "text": [
      "group: A, column A mean: 0.7186164148719729, column C mean: 0.12922546647594302\n",
      "----------------------------------------------------------------------------------------------------\n"
     ]
    },
    {
     "data": {
      "text/html": [
       "<div>\n",
       "<style scoped>\n",
       "    .dataframe tbody tr th:only-of-type {\n",
       "        vertical-align: middle;\n",
       "    }\n",
       "\n",
       "    .dataframe tbody tr th {\n",
       "        vertical-align: top;\n",
       "    }\n",
       "\n",
       "    .dataframe thead th {\n",
       "        text-align: right;\n",
       "    }\n",
       "</style>\n",
       "<table border=\"1\" class=\"dataframe\">\n",
       "  <thead>\n",
       "    <tr style=\"text-align: right;\">\n",
       "      <th></th>\n",
       "      <th>A</th>\n",
       "      <th>B</th>\n",
       "      <th>C</th>\n",
       "      <th>D</th>\n",
       "      <th>group</th>\n",
       "    </tr>\n",
       "  </thead>\n",
       "  <tbody>\n",
       "    <tr>\n",
       "      <th>2022-11-03</th>\n",
       "      <td>-0.496057</td>\n",
       "      <td>0.047652</td>\n",
       "      <td>-0.347322</td>\n",
       "      <td>1.554182</td>\n",
       "      <td>B</td>\n",
       "    </tr>\n",
       "    <tr>\n",
       "      <th>2022-11-04</th>\n",
       "      <td>-0.670524</td>\n",
       "      <td>0.934769</td>\n",
       "      <td>0.065391</td>\n",
       "      <td>0.698081</td>\n",
       "      <td>B</td>\n",
       "    </tr>\n",
       "    <tr>\n",
       "      <th>2022-11-06</th>\n",
       "      <td>-0.778994</td>\n",
       "      <td>2.103829</td>\n",
       "      <td>-1.649054</td>\n",
       "      <td>1.437184</td>\n",
       "      <td>B</td>\n",
       "    </tr>\n",
       "    <tr>\n",
       "      <th>2022-11-09</th>\n",
       "      <td>0.017866</td>\n",
       "      <td>-0.399896</td>\n",
       "      <td>0.450833</td>\n",
       "      <td>-1.330551</td>\n",
       "      <td>B</td>\n",
       "    </tr>\n",
       "  </tbody>\n",
       "</table>\n",
       "</div>"
      ],
      "text/plain": [
       "                   A         B         C         D group\n",
       "2022-11-03 -0.496057  0.047652 -0.347322  1.554182     B\n",
       "2022-11-04 -0.670524  0.934769  0.065391  0.698081     B\n",
       "2022-11-06 -0.778994  2.103829 -1.649054  1.437184     B\n",
       "2022-11-09  0.017866 -0.399896  0.450833 -1.330551     B"
      ]
     },
     "metadata": {},
     "output_type": "display_data"
    },
    {
     "name": "stdout",
     "output_type": "stream",
     "text": [
      "group: B, column A mean: -0.48192742986583503, column C mean: -0.3700381603966108\n",
      "----------------------------------------------------------------------------------------------------\n"
     ]
    },
    {
     "data": {
      "text/html": [
       "<div>\n",
       "<style scoped>\n",
       "    .dataframe tbody tr th:only-of-type {\n",
       "        vertical-align: middle;\n",
       "    }\n",
       "\n",
       "    .dataframe tbody tr th {\n",
       "        vertical-align: top;\n",
       "    }\n",
       "\n",
       "    .dataframe thead th {\n",
       "        text-align: right;\n",
       "    }\n",
       "</style>\n",
       "<table border=\"1\" class=\"dataframe\">\n",
       "  <thead>\n",
       "    <tr style=\"text-align: right;\">\n",
       "      <th></th>\n",
       "      <th>A</th>\n",
       "      <th>B</th>\n",
       "      <th>C</th>\n",
       "      <th>D</th>\n",
       "      <th>group</th>\n",
       "    </tr>\n",
       "  </thead>\n",
       "  <tbody>\n",
       "    <tr>\n",
       "      <th>2022-11-01</th>\n",
       "      <td>-0.410600</td>\n",
       "      <td>-0.065767</td>\n",
       "      <td>-0.461423</td>\n",
       "      <td>0.217363</td>\n",
       "      <td>C</td>\n",
       "    </tr>\n",
       "    <tr>\n",
       "      <th>2022-11-02</th>\n",
       "      <td>-0.510364</td>\n",
       "      <td>-2.147316</td>\n",
       "      <td>0.713797</td>\n",
       "      <td>-1.038984</td>\n",
       "      <td>C</td>\n",
       "    </tr>\n",
       "    <tr>\n",
       "      <th>2022-11-05</th>\n",
       "      <td>-0.354363</td>\n",
       "      <td>0.298966</td>\n",
       "      <td>-0.499015</td>\n",
       "      <td>0.121221</td>\n",
       "      <td>C</td>\n",
       "    </tr>\n",
       "  </tbody>\n",
       "</table>\n",
       "</div>"
      ],
      "text/plain": [
       "                   A         B         C         D group\n",
       "2022-11-01 -0.410600 -0.065767 -0.461423  0.217363     C\n",
       "2022-11-02 -0.510364 -2.147316  0.713797 -1.038984     C\n",
       "2022-11-05 -0.354363  0.298966 -0.499015  0.121221     C"
      ]
     },
     "metadata": {},
     "output_type": "display_data"
    },
    {
     "name": "stdout",
     "output_type": "stream",
     "text": [
      "group: C, column A mean: -0.42510941736281516, column C mean: -0.08221366767049365\n",
      "----------------------------------------------------------------------------------------------------\n"
     ]
    },
    {
     "data": {
      "text/html": [
       "<div>\n",
       "<style scoped>\n",
       "    .dataframe tbody tr th:only-of-type {\n",
       "        vertical-align: middle;\n",
       "    }\n",
       "\n",
       "    .dataframe tbody tr th {\n",
       "        vertical-align: top;\n",
       "    }\n",
       "\n",
       "    .dataframe thead th {\n",
       "        text-align: right;\n",
       "    }\n",
       "</style>\n",
       "<table border=\"1\" class=\"dataframe\">\n",
       "  <thead>\n",
       "    <tr style=\"text-align: right;\">\n",
       "      <th></th>\n",
       "      <th>A</th>\n",
       "      <th>B</th>\n",
       "      <th>C</th>\n",
       "      <th>D</th>\n",
       "      <th>group</th>\n",
       "    </tr>\n",
       "  </thead>\n",
       "  <tbody>\n",
       "    <tr>\n",
       "      <th>2022-11-07</th>\n",
       "      <td>-0.444217</td>\n",
       "      <td>-0.879306</td>\n",
       "      <td>1.053771</td>\n",
       "      <td>1.320646</td>\n",
       "      <td>D</td>\n",
       "    </tr>\n",
       "    <tr>\n",
       "      <th>2022-11-10</th>\n",
       "      <td>-1.606591</td>\n",
       "      <td>-0.228823</td>\n",
       "      <td>1.586585</td>\n",
       "      <td>-0.414570</td>\n",
       "      <td>D</td>\n",
       "    </tr>\n",
       "  </tbody>\n",
       "</table>\n",
       "</div>"
      ],
      "text/plain": [
       "                   A         B         C         D group\n",
       "2022-11-07 -0.444217 -0.879306  1.053771  1.320646     D\n",
       "2022-11-10 -1.606591 -0.228823  1.586585 -0.414570     D"
      ]
     },
     "metadata": {},
     "output_type": "display_data"
    },
    {
     "name": "stdout",
     "output_type": "stream",
     "text": [
      "group: D, column A mean: -1.0254043361142045, column C mean: 1.3201780360627033\n",
      "----------------------------------------------------------------------------------------------------\n"
     ]
    }
   ],
   "source": [
    "for name, group in df.groupby('group'):\n",
    "    # do something with each group\n",
    "    display(group)\n",
    "    print(f\"group: {name}, column A mean: {group['A'].mean()}, column C mean: {group['C'].mean()}\")\n",
    "    print('-' * 100)\n"
   ]
  },
  {
   "cell_type": "code",
   "execution_count": null,
   "metadata": {},
   "outputs": [],
   "source": []
  }
 ],
 "metadata": {
  "kernelspec": {
   "display_name": "Python 3",
   "language": "python",
   "name": "python3"
  },
  "language_info": {
   "codemirror_mode": {
    "name": "ipython",
    "version": 3
   },
   "file_extension": ".py",
   "mimetype": "text/x-python",
   "name": "python",
   "nbconvert_exporter": "python",
   "pygments_lexer": "ipython3",
   "version": "3.7.3"
  }
 },
 "nbformat": 4,
 "nbformat_minor": 4
}
