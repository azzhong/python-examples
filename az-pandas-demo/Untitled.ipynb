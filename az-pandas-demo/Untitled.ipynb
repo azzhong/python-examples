{
 "cells": [
  {
   "cell_type": "code",
   "execution_count": 2,
   "metadata": {},
   "outputs": [],
   "source": [
    "import numpy as np\n",
    "import pandas as pd"
   ]
  },
  {
   "cell_type": "code",
   "execution_count": 3,
   "metadata": {},
   "outputs": [],
   "source": [
    "# get 6 days\n",
    "dates = pd.date_range(\"20221101\", periods=6)\n",
    "\n",
    "# dataframe of 6 rows, 4 columns, index using dates,\n",
    "# column name A B C D\n",
    "df = pd.DataFrame(\n",
    "    np.random.randn(6, 4), \n",
    "    index=dates, \n",
    "    columns=list(\"ABCD\")\n",
    ")"
   ]
  },
  {
   "cell_type": "code",
   "execution_count": 4,
   "metadata": {},
   "outputs": [
    {
     "data": {
      "text/html": [
       "<div>\n",
       "<style scoped>\n",
       "    .dataframe tbody tr th:only-of-type {\n",
       "        vertical-align: middle;\n",
       "    }\n",
       "\n",
       "    .dataframe tbody tr th {\n",
       "        vertical-align: top;\n",
       "    }\n",
       "\n",
       "    .dataframe thead th {\n",
       "        text-align: right;\n",
       "    }\n",
       "</style>\n",
       "<table border=\"1\" class=\"dataframe\">\n",
       "  <thead>\n",
       "    <tr style=\"text-align: right;\">\n",
       "      <th></th>\n",
       "      <th>A</th>\n",
       "      <th>B</th>\n",
       "      <th>C</th>\n",
       "      <th>D</th>\n",
       "    </tr>\n",
       "  </thead>\n",
       "  <tbody>\n",
       "    <tr>\n",
       "      <th>2022-11-01</th>\n",
       "      <td>1.474002</td>\n",
       "      <td>0.686697</td>\n",
       "      <td>-0.287275</td>\n",
       "      <td>-0.025149</td>\n",
       "    </tr>\n",
       "    <tr>\n",
       "      <th>2022-11-02</th>\n",
       "      <td>-0.866297</td>\n",
       "      <td>0.275888</td>\n",
       "      <td>-0.221804</td>\n",
       "      <td>-0.102230</td>\n",
       "    </tr>\n",
       "    <tr>\n",
       "      <th>2022-11-03</th>\n",
       "      <td>-0.251718</td>\n",
       "      <td>-1.679887</td>\n",
       "      <td>-0.927424</td>\n",
       "      <td>1.172608</td>\n",
       "    </tr>\n",
       "    <tr>\n",
       "      <th>2022-11-04</th>\n",
       "      <td>1.001940</td>\n",
       "      <td>-0.243176</td>\n",
       "      <td>-0.662798</td>\n",
       "      <td>0.281772</td>\n",
       "    </tr>\n",
       "    <tr>\n",
       "      <th>2022-11-05</th>\n",
       "      <td>1.949305</td>\n",
       "      <td>-0.166774</td>\n",
       "      <td>-1.695013</td>\n",
       "      <td>-0.118569</td>\n",
       "    </tr>\n",
       "    <tr>\n",
       "      <th>2022-11-06</th>\n",
       "      <td>-0.073479</td>\n",
       "      <td>-0.423080</td>\n",
       "      <td>0.350862</td>\n",
       "      <td>-1.514716</td>\n",
       "    </tr>\n",
       "  </tbody>\n",
       "</table>\n",
       "</div>"
      ],
      "text/plain": [
       "                   A         B         C         D\n",
       "2022-11-01  1.474002  0.686697 -0.287275 -0.025149\n",
       "2022-11-02 -0.866297  0.275888 -0.221804 -0.102230\n",
       "2022-11-03 -0.251718 -1.679887 -0.927424  1.172608\n",
       "2022-11-04  1.001940 -0.243176 -0.662798  0.281772\n",
       "2022-11-05  1.949305 -0.166774 -1.695013 -0.118569\n",
       "2022-11-06 -0.073479 -0.423080  0.350862 -1.514716"
      ]
     },
     "execution_count": 4,
     "metadata": {},
     "output_type": "execute_result"
    }
   ],
   "source": [
    "df"
   ]
  },
  {
   "cell_type": "code",
   "execution_count": 5,
   "metadata": {},
   "outputs": [],
   "source": [
    "def genNewCol(row):\n",
    "    print(type(row))\n",
    "    print(row)\n",
    "    print(row['A'])\n",
    "    score = row['A'] + row['B']\n",
    "    return score"
   ]
  },
  {
   "cell_type": "markdown",
   "metadata": {},
   "source": [
    "# Get a row from the df"
   ]
  },
  {
   "cell_type": "code",
   "execution_count": 6,
   "metadata": {},
   "outputs": [
    {
     "data": {
      "text/plain": [
       "A    1.474002\n",
       "B    0.686697\n",
       "C   -0.287275\n",
       "D   -0.025149\n",
       "Name: 2022-11-01 00:00:00, dtype: float64"
      ]
     },
     "execution_count": 6,
     "metadata": {},
     "output_type": "execute_result"
    }
   ],
   "source": [
    "df.iloc[0]"
   ]
  },
  {
   "cell_type": "markdown",
   "metadata": {},
   "source": [
    "# Get a cell from the df"
   ]
  },
  {
   "cell_type": "code",
   "execution_count": 7,
   "metadata": {},
   "outputs": [
    {
     "data": {
      "text/plain": [
       "1.474002472979952"
      ]
     },
     "execution_count": 7,
     "metadata": {},
     "output_type": "execute_result"
    }
   ],
   "source": [
    "df.iloc[0][0]"
   ]
  },
  {
   "cell_type": "code",
   "execution_count": 8,
   "metadata": {},
   "outputs": [
    {
     "data": {
      "text/plain": [
       "0.6866973829508601"
      ]
     },
     "execution_count": 8,
     "metadata": {},
     "output_type": "execute_result"
    }
   ],
   "source": [
    "df.iloc[0]['B']"
   ]
  },
  {
   "cell_type": "markdown",
   "metadata": {},
   "source": [
    "# apply function"
   ]
  },
  {
   "cell_type": "code",
   "execution_count": 9,
   "metadata": {},
   "outputs": [],
   "source": [
    "def sumCols(a, b):\n",
    "    return a+b"
   ]
  },
  {
   "cell_type": "code",
   "execution_count": 20,
   "metadata": {},
   "outputs": [
    {
     "data": {
      "text/plain": [
       "A    <class 'pandas.core.series.Series'>\n",
       "B    <class 'pandas.core.series.Series'>\n",
       "C    <class 'pandas.core.series.Series'>\n",
       "D    <class 'pandas.core.series.Series'>\n",
       "dtype: object"
      ]
     },
     "execution_count": 20,
     "metadata": {},
     "output_type": "execute_result"
    }
   ],
   "source": [
    "df.apply(lambda row: type(row), axis=0)"
   ]
  },
  {
   "cell_type": "code",
   "execution_count": 19,
   "metadata": {},
   "outputs": [
    {
     "data": {
      "text/plain": [
       "2022-11-01    1.474002\n",
       "2022-11-02   -0.866297\n",
       "2022-11-03   -0.251718\n",
       "2022-11-04    1.001940\n",
       "2022-11-05    1.949305\n",
       "2022-11-06   -0.073479\n",
       "Freq: D, Name: A, dtype: float64"
      ]
     },
     "execution_count": 19,
     "metadata": {},
     "output_type": "execute_result"
    }
   ],
   "source": [
    "df['A']"
   ]
  },
  {
   "cell_type": "code",
   "execution_count": null,
   "metadata": {},
   "outputs": [],
   "source": []
  }
 ],
 "metadata": {
  "kernelspec": {
   "display_name": "Python 3",
   "language": "python",
   "name": "python3"
  },
  "language_info": {
   "codemirror_mode": {
    "name": "ipython",
    "version": 3
   },
   "file_extension": ".py",
   "mimetype": "text/x-python",
   "name": "python",
   "nbconvert_exporter": "python",
   "pygments_lexer": "ipython3",
   "version": "3.7.3"
  }
 },
 "nbformat": 4,
 "nbformat_minor": 4
}
